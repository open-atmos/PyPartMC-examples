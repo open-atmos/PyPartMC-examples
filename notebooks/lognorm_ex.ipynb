{
 "cells": [
  {
   "cell_type": "markdown",
   "id": "44181c41",
   "metadata": {},
   "source": [
    "[![nbviewer](https://raw.githubusercontent.com/jupyter/design/master/logos/Badges/nbviewer_badge.svg)](https://nbviewer.jupyter.org/github/open-atmos/PyPartMC-examples/blob/main/notebooks/lognorm_ex.ipynb)   \n",
    "[![Open In Colab](https://colab.research.google.com/assets/colab-badge.svg)](https://colab.research.google.com/github/open-atmos/PyPartMC-examples/blob/main/notebooks/lognorm_ex.ipynb)    \n",
    "[![Binder](https://mybinder.org/badge_logo.svg)](https://mybinder.org/v2/gh/open-atmos/PyPartMC-examples.git/main?urlpath=lab/tree/notebooks/lognorm_ex.ipynb)"
   ]
  },
  {
   "cell_type": "code",
   "execution_count": 1,
   "id": "a19b8c92",
   "metadata": {},
   "outputs": [],
   "source": [
    "# This file is a part of PyPartMC licensed under the GNU General Public License v3\n",
    "# Copyright (C) 2022 University of Illinois Urbana-Champaign\n",
    "# Authors: https://github.com/open-atmos/PyPartMC-examples/graphs/contributors"
   ]
  },
  {
   "cell_type": "code",
   "execution_count": 2,
   "id": "7c55b23d",
   "metadata": {},
   "outputs": [],
   "source": [
    "import sys\n",
    "if 'google.colab' in sys.modules:\n",
    "    !pip --quiet install PyPartMC atmos_cloud_sim_uj_utils"
   ]
  },
  {
   "cell_type": "code",
   "execution_count": 3,
   "id": "56fd1c71",
   "metadata": {},
   "outputs": [
    {
     "data": {
      "application/vnd.jupyter.widget-view+json": {
       "model_id": "11a0ded7a3974615873bca1e97f37941",
       "version_major": 2,
       "version_minor": 0
      },
      "text/plain": [
       "HBox(children=(Label(value='Temperature [K]:'), FloatSlider(value=250.0, max=350.0, min=250.0)))"
      ]
     },
     "metadata": {},
     "output_type": "display_data"
    },
    {
     "data": {
      "application/vnd.jupyter.widget-view+json": {
       "model_id": "8bfb5317bcd54d2ba95deb43758da806",
       "version_major": 2,
       "version_minor": 0
      },
      "text/plain": [
       "HBox(children=(Label(value='Fractal Dimension []:'), FloatSlider(value=3.0, max=3.0, min=1.0)))"
      ]
     },
     "metadata": {},
     "output_type": "display_data"
    },
    {
     "data": {
      "application/vnd.jupyter.widget-view+json": {
       "model_id": "6a20374d6ed74444bffab230d3a2bd9c",
       "version_major": 2,
       "version_minor": 0
      },
      "text/plain": [
       "HBox(children=(Label(value='Volume Filling Factor []:'), FloatSlider(value=1.0, max=1.5, min=1.0)))"
      ]
     },
     "metadata": {},
     "output_type": "display_data"
    },
    {
     "data": {
      "application/vnd.jupyter.widget-view+json": {
       "model_id": "4b75e7f7dda4422a9c1eaa39495b27df",
       "version_major": 2,
       "version_minor": 0
      },
      "text/plain": [
       "HBox(children=(Label(value='Mode 1 Number [#/cc]:'), IntSlider(value=50000, max=100000)))"
      ]
     },
     "metadata": {},
     "output_type": "display_data"
    },
    {
     "data": {
      "application/vnd.jupyter.widget-view+json": {
       "model_id": "3df9218e1a554d9fb334320f8c123484",
       "version_major": 2,
       "version_minor": 0
      },
      "text/plain": [
       "HBox(children=(Label(value='Mode 1 Geometric Standard Deviation:'), FloatSlider(value=1.3, max=5.0, min=1.1)))"
      ]
     },
     "metadata": {},
     "output_type": "display_data"
    },
    {
     "data": {
      "application/vnd.jupyter.widget-view+json": {
       "model_id": "209ac46dc85047cf88456ed9eb6060e6",
       "version_major": 2,
       "version_minor": 0
      },
      "text/plain": [
       "HBox(children=(Label(value='Mode 1 Geometric Mean Diameter [microns]:'), FloatSlider(value=0.9, max=10.0, min=…"
      ]
     },
     "metadata": {},
     "output_type": "display_data"
    },
    {
     "data": {
      "application/vnd.jupyter.widget-view+json": {
       "model_id": "f9878762ea4d48fe8c9e3b4911b9d5d6",
       "version_major": 2,
       "version_minor": 0
      },
      "text/plain": [
       "HBox(children=(Label(value='Mode 2 Number [#/cc]:'), IntSlider(value=80000, max=100000)))"
      ]
     },
     "metadata": {},
     "output_type": "display_data"
    },
    {
     "data": {
      "application/vnd.jupyter.widget-view+json": {
       "model_id": "4b31a42703914b13aa59091da84382a6",
       "version_major": 2,
       "version_minor": 0
      },
      "text/plain": [
       "HBox(children=(Label(value='Mode 2 Geometric Standard Deviation:'), FloatSlider(value=2.0, max=5.0, min=1.1)))"
      ]
     },
     "metadata": {},
     "output_type": "display_data"
    },
    {
     "data": {
      "application/vnd.jupyter.widget-view+json": {
       "model_id": "14edf4c5e3c84242ac6e3da9a9eed4b9",
       "version_major": 2,
       "version_minor": 0
      },
      "text/plain": [
       "HBox(children=(Label(value='Mode 2 Geometric Mean Diameter [microns]:'), FloatSlider(value=5.8, max=10.0, min=…"
      ]
     },
     "metadata": {},
     "output_type": "display_data"
    },
    {
     "data": {
      "application/vnd.jupyter.widget-view+json": {
       "model_id": "c723748e2d4f4c5aa47474c1b0a96bc2",
       "version_major": 2,
       "version_minor": 0
      },
      "text/plain": [
       "Button(description='Calculate', style=ButtonStyle())"
      ]
     },
     "metadata": {},
     "output_type": "display_data"
    },
    {
     "data": {
      "application/vnd.jupyter.widget-view+json": {
       "model_id": "178a7527ae8d46329b49d5296dd504e1",
       "version_major": 2,
       "version_minor": 0
      },
      "text/plain": [
       "Output()"
      ]
     },
     "metadata": {},
     "output_type": "display_data"
    }
   ],
   "source": [
    "from collections import namedtuple\n",
    "import ipywidgets as widgets\n",
    "import numpy as np\n",
    "import PyPartMC as ppmc\n",
    "from matplotlib import pyplot\n",
    "from IPython.display import display, clear_output\n",
    "from PyPartMC import si\n",
    "from atmos_cloud_sim_uj_utils import show_plot\n",
    "\n",
    "temperature_widget = widgets.FloatSlider(min=250, max=350)\n",
    "temp_hbox = widgets.HBox([widgets.Label(value='Temperature [K]:'), temperature_widget])\n",
    "\n",
    "fractal_widget = widgets.FloatSlider(min=1, max=3, value=3)\n",
    "fractal_hbox = widgets.HBox([widgets.Label(value='Fractal Dimension []:'), fractal_widget])\n",
    "\n",
    "vol_fill_widget = widgets.FloatSlider(min=1, max=1.5, value=1)\n",
    "vol_hbox = widgets.HBox([widgets.Label(value='Volume Filling Factor []:'), vol_fill_widget])\n",
    "\n",
    "mode_1_n_per_cc = widgets.IntSlider(min=0, max=100000, value=50000)\n",
    "mode_1_n_hbox = widgets.HBox([widgets.Label(value='Mode 1 Number [#/cc]:'), mode_1_n_per_cc])\n",
    " \n",
    "mode_1_gsd = widgets.FloatSlider(min=1.1, max=5, value=1.3)\n",
    "mode_1_gsd_hbox = widgets.HBox([widgets.Label(value='Mode 1 Geometric Standard Deviation:'),\n",
    "    mode_1_gsd])\n",
    " \n",
    "mode_1_gm_microns = widgets.FloatSlider(min=0.001, max=10, value=0.9, readout_format='.3f')\n",
    "mode_1_gm_hbox = widgets.HBox([widgets.Label(value='Mode 1 Geometric Mean Diameter [microns]:'),\n",
    "    mode_1_gm_microns])\n",
    "\n",
    "mode_2_n_per_cc = widgets.IntSlider(min=0, max=100000, value=80000)\n",
    "mode_2_n_hbox = widgets.HBox([widgets.Label(value='Mode 2 Number [#/cc]:'), mode_2_n_per_cc])\n",
    "\n",
    "mode_2_gsd = widgets.FloatSlider(min=1.1, max=5, value=2)\n",
    "mode_2_gsd_hbox = widgets.HBox([widgets.Label(value='Mode 2 Geometric Standard Deviation:'),\n",
    "    mode_2_gsd])\n",
    "\n",
    "mode_2_gm_microns = widgets.FloatSlider(min=0.001, max=10, value=5.8, readout_format='.3f')\n",
    "mode_2_gm_hbox = widgets.HBox([widgets.Label(value='Mode 2 Geometric Mean Diameter [microns]:'),\n",
    "    mode_2_gm_microns])\n",
    "\n",
    "button = widgets.Button(description='Calculate')\n",
    "output = widgets.Output()\n",
    "\n",
    "display(temp_hbox, fractal_hbox, vol_hbox, mode_1_n_hbox, mode_1_gsd_hbox, mode_1_gm_hbox,\n",
    "       mode_2_n_hbox, mode_2_gsd_hbox, mode_2_gm_hbox, button, output)\n",
    "\n",
    "def ln_norm():\n",
    "    Mode = namedtuple(\"Mode\", (\"norm_factor\", \"geom_mean\", \"geom_stdev\"))\n",
    "    modes = (\n",
    "        Mode(\n",
    "            norm_factor=mode_1_n_per_cc.value/si.cm**3,\n",
    "            geom_mean=mode_1_gm_microns.value*si.um,\n",
    "            geom_stdev=mode_1_gsd.value\n",
    "        ),\n",
    "        Mode(\n",
    "            norm_factor=mode_2_n_per_cc.value/si.cm**3,\n",
    "            geom_mean=mode_2_gm_microns.value*si.um,\n",
    "            geom_stdev=mode_2_gsd.value\n",
    "        )\n",
    "    )\n",
    "    \n",
    "    diameters = np.logspace(-1,1, 100) * si.um\n",
    "    \n",
    "    env_state = ppmc.EnvState({\n",
    "        'rel_humidity': 0.,\n",
    "        'latitude': 0.,\n",
    "        'longitude': 0.,\n",
    "        'altitude': 0.,\n",
    "        'start_time': 0.,\n",
    "        'start_day': 0\n",
    "    })\n",
    "    \n",
    "    env_state.set_temperature(temperature_widget.value)\n",
    "    \n",
    "    def lognormal(diam, num, geom_mean, geom_stdev):\n",
    "        return diam * (\n",
    "            (num / (np.sqrt(2*np.pi)*diam*np.log(geom_stdev))) *\n",
    "            np.exp(-(np.log(diam) - np.log(geom_mean))** 2 / (2*np.log(geom_stdev)** 2))\n",
    "        )\n",
    "    \n",
    "    aero_data = ppmc.AeroData((\n",
    "            {\"H2O\": [1000 * si.kg / si.m**3, 1, 18e-3 * si.kg / si.mol, 0]},\n",
    "            {\"Cl\": [2200 * si.kg / si.m**3, 1, 35.5e-3 * si.kg / si.mol, 0]},\n",
    "            {\"Na\": [2200 * si.kg / si.m**3, 1, 23e-3 * si.kg / si.mol, 0]}\n",
    "        ))\n",
    "    \n",
    "    aero_data.frac_dim = fractal_widget.value\n",
    "    aero_data.vol_fill_factor = vol_fill_widget.value\n",
    "    \n",
    "    volumes = (np.pi / 6) * diameters**3\n",
    "    aero_particles = [ppmc.AeroParticle(aero_data, [0, volume, volume]) for volume in volumes]\n",
    "\n",
    "    for aero_particle in aero_particles:\n",
    "        ppmc.condense_equilib_particle(env_state, aero_data, aero_particle)\n",
    "\n",
    "    wet_volumes = [particle.volumes[0] for particle in aero_particles]\n",
    "    wet_diameters = ((6 / np.pi) * np.asarray(wet_volumes))**(1/3)\n",
    "    \n",
    "    with output:\n",
    "        clear_output(wait=True)\n",
    "        \n",
    "        fig = pyplot.figure()\n",
    "        \n",
    "        fig.add_subplot(xscale='log')\n",
    "        \n",
    "        pyplot.plot(diameters, lognormal(diameters, *modes[0]))\n",
    "        pyplot.plot(diameters, lognormal(diameters, *modes[1]))\n",
    "        pyplot.plot(wet_diameters, lognormal(diameters, *modes[0]))\n",
    "        pyplot.plot(wet_diameters, lognormal(diameters, *modes[1]))\n",
    "        show_plot(\"spectrum.pdf\")\n",
    "\n",
    "def on_button_clicked(_):\n",
    "    ln_norm()\n",
    "\n",
    "button.on_click(on_button_clicked)"
   ]
  },
  {
   "cell_type": "code",
   "execution_count": null,
   "id": "0527a2af",
   "metadata": {},
   "outputs": [],
   "source": []
  },
  {
   "cell_type": "code",
   "execution_count": null,
   "id": "0fe2617d",
   "metadata": {},
   "outputs": [],
   "source": []
  }
 ],
 "metadata": {
  "kernelspec": {
   "display_name": "Python 3 (ipykernel)",
   "language": "python",
   "name": "python3"
  },
  "language_info": {
   "codemirror_mode": {
    "name": "ipython",
    "version": 3
   },
   "file_extension": ".py",
   "mimetype": "text/x-python",
   "name": "python",
   "nbconvert_exporter": "python",
   "pygments_lexer": "ipython3",
   "version": "3.9.13"
  },
  "vscode": {
   "interpreter": {
    "hash": "aee8b7b246df8f9039afb4144a1f6fd8d2ca17a180786b69acc140d282b71a49"
   }
  }
 },
 "nbformat": 4,
 "nbformat_minor": 5
}
