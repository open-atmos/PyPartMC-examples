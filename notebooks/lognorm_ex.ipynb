{
 "cells": [
  {
   "cell_type": "markdown",
   "id": "44181c41",
   "metadata": {},
   "source": [
    "[![nbviewer](https://raw.githubusercontent.com/jupyter/design/master/logos/Badges/nbviewer_badge.svg)](https://nbviewer.jupyter.org/github/open-atmos/PyPartMC-examples/blob/main/notebooks/lognorm_ex.ipynb)   \n",
    "[![Open In Colab](https://colab.research.google.com/assets/colab-badge.svg)](https://colab.research.google.com/github/open-atmos/PyPartMC-examples/blob/main/notebooks/lognorm_ex.ipynb)    \n",
    "[![Binder](https://mybinder.org/badge_logo.svg)](https://mybinder.org/v2/gh/open-atmos/PyPartMC-examples.git/main?urlpath=lab/tree/notebooks/lognorm_ex.ipynb)"
   ]
  },
  {
   "cell_type": "code",
   "execution_count": null,
   "id": "a19b8c92",
   "metadata": {},
   "outputs": [],
   "source": [
    "# This file is a part of PyPartMC licensed under the GNU General Public License v3\n",
    "# Copyright (C) 2022 University of Illinois Urbana-Champaign\n",
    "# Authors: https://github.com/open-atmos/PyPartMC-examples/graphs/contributors"
   ]
  },
  {
   "cell_type": "code",
   "execution_count": null,
   "id": "7c55b23d",
   "metadata": {},
   "outputs": [],
   "source": [
    "import sys\n",
    "if 'google.colab' in sys.modules:\n",
    "    !pip --quiet install PyPartMC atmos_cloud_sim_uj_utils"
   ]
  },
  {
   "cell_type": "code",
   "execution_count": 8,
   "id": "56fd1c71",
   "metadata": {},
   "outputs": [
    {
     "data": {
      "application/vnd.jupyter.widget-view+json": {
       "model_id": "769357abf08349afa6773b2664da7fa1",
       "version_major": 2,
       "version_minor": 0
      },
      "text/plain": [
       "FloatSlider(value=0.0, description='RH [%]:')"
      ]
     },
     "metadata": {},
     "output_type": "display_data"
    },
    {
     "data": {
      "application/vnd.jupyter.widget-view+json": {
       "model_id": "557272864492454bae9f4e517b578187",
       "version_major": 2,
       "version_minor": 0
      },
      "text/plain": [
       "VBox(children=(VBox(children=(HBox(children=(Label(value='Mode 1 Number [#/cc]:'), IntSlider(value=50000, max=…"
      ]
     },
     "metadata": {},
     "output_type": "display_data"
    },
    {
     "data": {
      "application/vnd.jupyter.widget-view+json": {
       "model_id": "6e8d7642616a4adb8d1b03a1fc8ea813",
       "version_major": 2,
       "version_minor": 0
      },
      "text/plain": [
       "Button(description='Calculate', style=ButtonStyle())"
      ]
     },
     "metadata": {},
     "output_type": "display_data"
    },
    {
     "data": {
      "application/vnd.jupyter.widget-view+json": {
       "model_id": "ed17c2e3f9894fe3a2ed09a5d29d9c5b",
       "version_major": 2,
       "version_minor": 0
      },
      "text/plain": [
       "Output()"
      ]
     },
     "metadata": {},
     "output_type": "display_data"
    }
   ],
   "source": [
    "from collections import namedtuple\n",
    "import ipywidgets as widgets\n",
    "import numpy as np\n",
    "from matplotlib import pyplot\n",
    "from IPython.display import display, clear_output\n",
    "from PyPartMC import si\n",
    "from atmos_cloud_sim_uj_utils import show_plot\n",
    "\n",
    "humidity_widget = widgets.FloatSlider(description='RH [%]:', min=0, max=100)\n",
    "display(humidity_widget)\n",
    "\n",
    "mode_1_n_per_cc = widgets.IntSlider(min=0, max=100000, value=50000)\n",
    "h11 = widgets.HBox([widgets.Label(value='Mode 1 Number [#/cc]:'), mode_1_n_per_cc])\n",
    " \n",
    "mode_1_gsd = widgets.FloatSlider(min=1.1, max=5, value=1.3)\n",
    "h12 = widgets.HBox([widgets.Label(value='Mode 1 Geometric Standard Deviation:'), mode_1_gsd])\n",
    " \n",
    "mode_1_gm_microns = widgets.FloatSlider(min=0.001, max=10, value=0.9, readout_format='.3f')\n",
    "h13 = widgets.HBox([widgets.Label(value='Mode 1 Geometric Mean Diameter [microns]:'),\n",
    "    mode_1_gm_microns])\n",
    "\n",
    "mode_2_n_per_cc = widgets.IntSlider(min=0, max=100000, value=80000)\n",
    "h21 = widgets.HBox([widgets.Label(value='Mode 2 Number [#/cc]:'), mode_2_n_per_cc])\n",
    "\n",
    "mode_2_gsd = widgets.FloatSlider(min=1.1, max=5, value=2)\n",
    "h22 = widgets.HBox([widgets.Label(value='Mode 2 Geometric Standard Deviation:'), mode_2_gsd])\n",
    "\n",
    "mode_2_gm_microns = widgets.FloatSlider(min=0.001, max=10, value=5.8, readout_format='.3f')\n",
    "h23 = widgets.HBox([widgets.Label(value='Mode 2 Geometric Mean Diameter [microns]:'),\n",
    "    mode_2_gm_microns])\n",
    "\n",
    "v1 = widgets.VBox([h11, h12, h13])\n",
    "v2 = widgets.VBox([h21, h22, h23])\n",
    "\n",
    "button = widgets.Button(description='Calculate')\n",
    "output = widgets.Output()\n",
    "\n",
    "def ln_norm():\n",
    "    Mode = namedtuple(\"Mode\", (\"norm_factor\", \"geom_mean\", \"geom_stdev\"))\n",
    "    modes = (\n",
    "        Mode(\n",
    "            norm_factor=mode_1_n_per_cc.value/si.cm**3,\n",
    "            geom_mean=mode_1_gm_microns.value*si.um,\n",
    "            geom_stdev=mode_1_gsd.value\n",
    "        ),\n",
    "        Mode(\n",
    "            norm_factor=mode_2_n_per_cc.value/si.cm**3,\n",
    "            geom_mean=mode_2_gm_microns.value*si.um,\n",
    "            geom_stdev=mode_2_gsd.value\n",
    "        )\n",
    "    )\n",
    "    \n",
    "    diameters = np.logspace(-1,1, 100)* si.um\n",
    "    \n",
    "    def lognormal(diam, num, geom_mean, geom_stdev):\n",
    "        return diam * (\n",
    "            (num / (np.sqrt(2*np.pi)*diam*np.log(geom_stdev))) *\n",
    "            np.exp(-(np.log(diam) - np.log(geom_mean))** 2 / (2*np.log(geom_stdev)** 2))\n",
    "        )\n",
    "    \n",
    "    with output:\n",
    "        clear_output(wait=True)\n",
    "        \n",
    "        fig = pyplot.figure()\n",
    "        \n",
    "        fig.add_subplot(xscale='log')\n",
    "        \n",
    "        pyplot.plot(diameters, lognormal(diameters, *modes[0]))\n",
    "        pyplot.plot(diameters, lognormal(diameters, *modes[1]))\n",
    "        show_plot(\"spectrum.pdf\")\n",
    "\n",
    "def on_button_clicked(_):\n",
    "    ln_norm()\n",
    "\n",
    "V = widgets.VBox([v1, v2])\n",
    "display(V)\n",
    "display(button)\n",
    "display(output)\n",
    "\n",
    "button.on_click(on_button_clicked)"
   ]
  },
  {
   "cell_type": "code",
   "execution_count": null,
   "id": "0527a2af",
   "metadata": {},
   "outputs": [],
   "source": []
  },
  {
   "cell_type": "code",
   "execution_count": null,
   "id": "0fe2617d",
   "metadata": {},
   "outputs": [],
   "source": []
  }
 ],
 "metadata": {
  "kernelspec": {
   "display_name": "Python 3 (ipykernel)",
   "language": "python",
   "name": "python3"
  },
  "language_info": {
   "codemirror_mode": {
    "name": "ipython",
    "version": 3
   },
   "file_extension": ".py",
   "mimetype": "text/x-python",
   "name": "python",
   "nbconvert_exporter": "python",
   "pygments_lexer": "ipython3",
   "version": "3.9.13"
  },
  "vscode": {
   "interpreter": {
    "hash": "aee8b7b246df8f9039afb4144a1f6fd8d2ca17a180786b69acc140d282b71a49"
   }
  }
 },
 "nbformat": 4,
 "nbformat_minor": 5
}
